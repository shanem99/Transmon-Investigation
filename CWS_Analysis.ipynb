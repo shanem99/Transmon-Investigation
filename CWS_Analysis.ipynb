{
 "cells": [
  {
   "cell_type": "code",
   "execution_count": null,
   "metadata": {},
   "outputs": [],
   "source": [
    "from utils.Analysis import CWS_analysis\n",
    "import numpy as np\n",
    "\n",
    "data_re = np.loadtxt(\"Data/data_real.txt\")\n",
    "\n",
    "data_im = np.loadtxt(\"Data/data_imaginary.txt\")\n",
    "\n",
    "analyser = CWS_analysis(imaginary_data=data_im, real_data=data_re)\n",
    "\n"
   ]
  },
  {
   "cell_type": "code",
   "execution_count": null,
   "metadata": {},
   "outputs": [],
   "source": [
    "analyser.plot_raw_data()"
   ]
  },
  {
   "cell_type": "code",
   "execution_count": null,
   "metadata": {},
   "outputs": [],
   "source": [
    "data = analyser.get_resonance_frequencies()"
   ]
  },
  {
   "cell_type": "code",
   "execution_count": null,
   "metadata": {},
   "outputs": [],
   "source": [
    "analyser._median_filter(data)"
   ]
  },
  {
   "cell_type": "code",
   "execution_count": null,
   "metadata": {},
   "outputs": [],
   "source": [
    "analyser.plot_raw_filterdata()"
   ]
  },
  {
   "cell_type": "code",
   "execution_count": null,
   "metadata": {},
   "outputs": [],
   "source": [
    "EJ, EL = analyser.optimise_parameters(\n",
    "    data_type=\"real\",\n",
    "    EJ_range=[10, 11.5],\n",
    "    EL_range=[23.9, 25.5],\n",
    "    number_of_steps=10,\n",
    "    EC=0.193,\n",
    ")"
   ]
  },
  {
   "cell_type": "code",
   "execution_count": null,
   "metadata": {},
   "outputs": [],
   "source": [
    "analyser.plot_parameter_colour_map(\n",
    "    EJ_range=[10, 11.5],\n",
    "    EL_range=[23.9, 25.5],\n",
    "    number_of_steps=10,\n",
    ")"
   ]
  },
  {
   "cell_type": "code",
   "execution_count": null,
   "metadata": {},
   "outputs": [],
   "source": [
    "analyser.optimise_EC( EC_range=[0.1, 0.3])"
   ]
  },
  {
   "cell_type": "code",
   "execution_count": null,
   "metadata": {},
   "outputs": [],
   "source": [
    "analyser.plot_optimsied_resonance_curve()"
   ]
  }
 ],
 "metadata": {
  "kernelspec": {
   "display_name": "venv",
   "language": "python",
   "name": "python3"
  },
  "language_info": {
   "codemirror_mode": {
    "name": "ipython",
    "version": 3
   },
   "file_extension": ".py",
   "mimetype": "text/x-python",
   "name": "python",
   "nbconvert_exporter": "python",
   "pygments_lexer": "ipython3",
   "version": "3.10.7"
  }
 },
 "nbformat": 4,
 "nbformat_minor": 2
}
